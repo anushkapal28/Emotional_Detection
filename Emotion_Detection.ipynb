{
  "nbformat": 4,
  "nbformat_minor": 0,
  "metadata": {
    "colab": {
      "provenance": [],
      "gpuType": "T4"
    },
    "kernelspec": {
      "name": "python3",
      "display_name": "Python 3"
    },
    "language_info": {
      "name": "python"
    },
    "accelerator": "GPU"
  },
  "cells": [
    {
      "cell_type": "code",
      "execution_count": null,
      "metadata": {
        "id": "HtuHHTldFbzW"
      },
      "outputs": [],
      "source": [
        "# !pip install pysentimiento"
      ]
    },
    {
      "cell_type": "markdown",
      "source": [
        "# Load Packages"
      ],
      "metadata": {
        "id": "DbncM1NIF64a"
      }
    },
    {
      "cell_type": "code",
      "source": [
        "from pysentimiento import create_analyzer"
      ],
      "metadata": {
        "id": "NZtLRwMvFqtb"
      },
      "execution_count": null,
      "outputs": []
    },
    {
      "cell_type": "code",
      "source": [],
      "metadata": {
        "id": "mLOUZufq7VEH"
      },
      "execution_count": null,
      "outputs": []
    },
    {
      "cell_type": "markdown",
      "source": [],
      "metadata": {
        "id": "rAaFv4o-7VdJ"
      }
    },
    {
      "cell_type": "markdown",
      "source": [
        "# emotion Detection"
      ],
      "metadata": {
        "id": "jY9FD5-wGumF"
      }
    },
    {
      "cell_type": "code",
      "source": [
        "emotion = create_analyzer(task='emotion',lang='en')\n",
        "result = emotion.predict(\"get out of my sight\")\n",
        "result.output"
      ],
      "metadata": {
        "colab": {
          "base_uri": "https://localhost:8080/",
          "height": 36
        },
        "id": "NeVG1cO9GaGF",
        "outputId": "2263ab15-f16c-4454-ab4d-a8e7980f2f29"
      },
      "execution_count": null,
      "outputs": [
        {
          "output_type": "execute_result",
          "data": {
            "text/plain": [
              "'anger'"
            ],
            "application/vnd.google.colaboratory.intrinsic+json": {
              "type": "string"
            }
          },
          "metadata": {},
          "execution_count": 33
        }
      ]
    },
    {
      "cell_type": "code",
      "source": [
        "def emotion_detection(text):\n",
        "  emotion = create_analyzer(task='emotion',lang='en')\n",
        "  result = emotion.predict(text)\n",
        "  return result.output\n",
        "emotion_detection(\"I am scared of learning mathematcis\")"
      ],
      "metadata": {
        "colab": {
          "base_uri": "https://localhost:8080/",
          "height": 36
        },
        "id": "rG5J77zkG20e",
        "outputId": "5ac33535-729e-4e97-fe79-be976b507ab2"
      },
      "execution_count": null,
      "outputs": [
        {
          "output_type": "execute_result",
          "data": {
            "text/plain": [
              "'fear'"
            ],
            "application/vnd.google.colaboratory.intrinsic+json": {
              "type": "string"
            }
          },
          "metadata": {},
          "execution_count": 35
        }
      ]
    },
    {
      "cell_type": "markdown",
      "source": [
        "# hate speech detection"
      ],
      "metadata": {
        "id": "9_WrrOg9IZbx"
      }
    },
    {
      "cell_type": "code",
      "source": [
        "hatespeech = create_analyzer(task='hate_speech', lang='en')\n",
        "result = hatespeech.predict(\"I hate eating apples. that's why i don't want to sit with appple seller\")\n",
        "# next(iter(result.probas,None))\n",
        "# next(iter(result.probas.items()),None)\n",
        "result.output"
      ],
      "metadata": {
        "colab": {
          "base_uri": "https://localhost:8080/"
        },
        "id": "tVCNcWxQHq0W",
        "outputId": "2a3eb2f4-9695-41b6-bc02-cb4622fc1238"
      },
      "execution_count": null,
      "outputs": [
        {
          "output_type": "execute_result",
          "data": {
            "text/plain": [
              "[]"
            ]
          },
          "metadata": {},
          "execution_count": 57
        }
      ]
    },
    {
      "cell_type": "code",
      "source": [
        "def hatespeech_detection(text):\n",
        "  hatespeech = create_analyzer(task='hate_speech', lang='en')\n",
        "  result = hatespeech.predict(text)\n",
        "  return next(iter(result.probas.items()),None)\n",
        "hatespeech_detection(\"I hate eating apples. that's why i don't want to sit with appple seller\")"
      ],
      "metadata": {
        "colab": {
          "base_uri": "https://localhost:8080/"
        },
        "id": "Aazg1hSCIurz",
        "outputId": "297fcee1-5f81-435a-f452-b67a156558ae"
      },
      "execution_count": null,
      "outputs": [
        {
          "output_type": "execute_result",
          "data": {
            "text/plain": [
              "('hateful', 0.030125703662633896)"
            ]
          },
          "metadata": {},
          "execution_count": 49
        }
      ]
    },
    {
      "cell_type": "markdown",
      "source": [
        "# Predictive System"
      ],
      "metadata": {
        "id": "RZVeuIe5PIXB"
      }
    },
    {
      "cell_type": "code",
      "source": [
        "text = \"\"\"I woke up this morning feeling incredibly happy and grateful for the beautiful weather outside.\n",
        " The sun was shining, birds were singing, and there was a gentle breeze in the air. It felt like the\n",
        " perfect day to go for a long walk in the park.\"\"\""
      ],
      "metadata": {
        "id": "LwnXZcdNMo18"
      },
      "execution_count": null,
      "outputs": []
    },
    {
      "cell_type": "code",
      "source": [
        "emo = emotion_detection(text)\n",
        "hate = hatespeech_detection(text)\n",
        "\n",
        "print(\"Emotion :\", emo)\n",
        "print(\"Speech :\", hate)"
      ],
      "metadata": {
        "colab": {
          "base_uri": "https://localhost:8080/"
        },
        "id": "MSwA9IR8Qnoa",
        "outputId": "843eacbc-441b-49ff-872f-bc2bfc84ff02"
      },
      "execution_count": null,
      "outputs": [
        {
          "output_type": "stream",
          "name": "stdout",
          "text": [
            "Emotion : joy\n",
            "Speech : ('hateful', 0.015754802152514458)\n"
          ]
        }
      ]
    },
    {
      "cell_type": "code",
      "source": [
        "# Example 2:\n",
        "text = \"\"\"In the evening, I decided to unwind by watching a comedy show. The hilarious jokes and witty banter lifted my spirits, and I found myself laughing uncontrollably.\n",
        " Laughter truly is the best medicine, and it was the perfect way to end the day on a positive note.\n",
        "\"\"\""
      ],
      "metadata": {
        "id": "i4gyeSwdRnRY"
      },
      "execution_count": null,
      "outputs": []
    },
    {
      "cell_type": "code",
      "source": [
        "emo = emotion_detection(text)\n",
        "hate = hatespeech_detection(text)\n",
        "\n",
        "print(\"Emotion :\", emo)\n",
        "print(\"Speech :\", hate)"
      ],
      "metadata": {
        "colab": {
          "base_uri": "https://localhost:8080/"
        },
        "id": "6JZKsjxxabAU",
        "outputId": "56da95c5-7ad4-498b-98d3-3389565fe7ce"
      },
      "execution_count": null,
      "outputs": [
        {
          "output_type": "stream",
          "name": "stdout",
          "text": [
            "Emotion : joy\n",
            "Speech : ('hateful', 0.014117328450083733)\n"
          ]
        }
      ]
    },
    {
      "cell_type": "code",
      "source": [],
      "metadata": {
        "id": "4NsOLDaSaiV4"
      },
      "execution_count": null,
      "outputs": []
    }
  ]
}